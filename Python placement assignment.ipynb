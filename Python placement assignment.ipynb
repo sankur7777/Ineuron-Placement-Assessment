{
 "cells": [
  {
   "cell_type": "markdown",
   "id": "e6891056",
   "metadata": {},
   "source": [
    "#  Q1. Create a function in python to read the text file and replace specific content of the file."
   ]
  },
  {
   "cell_type": "code",
   "execution_count": 3,
   "id": "450f45e7",
   "metadata": {},
   "outputs": [],
   "source": [
    "file = open(\"example.txt\", 'w')\n",
    "file.write(\"This is a placement assignment\")\n",
    "file.close()\n",
    "data = open(\"example.txt\", \"rt\")\n",
    "data = data.read()\n",
    "data = data.replace(\"placement\", \"screening\")"
   ]
  },
  {
   "cell_type": "markdown",
   "id": "a2af5b4c",
   "metadata": {},
   "source": [
    "# Q2(A)  Abstract class example"
   ]
  },
  {
   "cell_type": "code",
   "execution_count": 5,
   "id": "c4c54aa1",
   "metadata": {},
   "outputs": [
    {
     "name": "stdout",
     "output_type": "stream",
     "text": [
      "Abstract class example\n"
     ]
    }
   ],
   "source": [
    "from abc import ABC, abstractmethod\n",
    "class xyz:\n",
    "    def print(self):\n",
    "        pass\n",
    "class xyz2(xyz):\n",
    "    def print(self):\n",
    "        print(\"Abstract class example\")\n",
    "obj = xyz2()\n",
    "obj.print()"
   ]
  },
  {
   "cell_type": "markdown",
   "id": "b27d0d35",
   "metadata": {},
   "source": [
    "# Q2(B) Decorator example\n"
   ]
  },
  {
   "cell_type": "code",
   "execution_count": 6,
   "id": "11fbad3e",
   "metadata": {},
   "outputs": [
    {
     "data": {
      "text/plain": [
       "'Full stack Data Science'"
      ]
     },
     "execution_count": 6,
     "metadata": {},
     "output_type": "execute_result"
    }
   ],
   "source": [
    "class dec:\n",
    "    batch_name = \"Full stack Data Science\"\n",
    "    @staticmethod\n",
    "    def batch():\n",
    "        print(self.batch_name)\n",
    "dec.batch_name"
   ]
  },
  {
   "cell_type": "markdown",
   "id": "12f662a3",
   "metadata": {},
   "source": [
    "# Q2(C) Multiple Inheritance"
   ]
  },
  {
   "cell_type": "code",
   "execution_count": 7,
   "id": "bbf36c6e",
   "metadata": {},
   "outputs": [
    {
     "name": "stdout",
     "output_type": "stream",
     "text": [
      "This is my method of xyz1\n"
     ]
    }
   ],
   "source": [
    "class xyz:\n",
    "    def __init__(self,a,b,c):\n",
    "        self.a=a\n",
    "        self.b=b\n",
    "        self.c=c\n",
    "        \n",
    "    def test(self):\n",
    "        print(\"This is method of xyz\")\n",
    "        \n",
    "class xyz1(xyz):\n",
    "    def test1(self):\n",
    "        print(\"This is my method of xyz1\")\n",
    "    \n",
    "class xyz2(xyz1):\n",
    "    def test(self):\n",
    "        print(\"This is my method of xyz2\")\n",
    "        \n",
    "n=xyz(3,4,5)\n",
    "m=xyz1(5,9,3)\n",
    "o=xyz2(7,5,9)\n",
    "    \n",
    "o.test1()"
   ]
  },
  {
   "cell_type": "code",
   "execution_count": 13,
   "id": "3eb8f71d",
   "metadata": {},
   "outputs": [
    {
     "data": {
      "text/plain": [
       "3"
      ]
     },
     "execution_count": 13,
     "metadata": {},
     "output_type": "execute_result"
    }
   ],
   "source": [
    "n.a"
   ]
  },
  {
   "cell_type": "code",
   "execution_count": 14,
   "id": "4091766f",
   "metadata": {},
   "outputs": [
    {
     "data": {
      "text/plain": [
       "9"
      ]
     },
     "execution_count": 14,
     "metadata": {},
     "output_type": "execute_result"
    }
   ],
   "source": [
    "m.b"
   ]
  },
  {
   "cell_type": "code",
   "execution_count": 16,
   "id": "21906f89",
   "metadata": {},
   "outputs": [
    {
     "data": {
      "text/plain": [
       "7"
      ]
     },
     "execution_count": 16,
     "metadata": {},
     "output_type": "execute_result"
    }
   ],
   "source": [
    "o.a"
   ]
  },
  {
   "cell_type": "code",
   "execution_count": null,
   "id": "2ed2db9a",
   "metadata": {},
   "outputs": [],
   "source": []
  }
 ],
 "metadata": {
  "kernelspec": {
   "display_name": "Python 3 (ipykernel)",
   "language": "python",
   "name": "python3"
  },
  "language_info": {
   "codemirror_mode": {
    "name": "ipython",
    "version": 3
   },
   "file_extension": ".py",
   "mimetype": "text/x-python",
   "name": "python",
   "nbconvert_exporter": "python",
   "pygments_lexer": "ipython3",
   "version": "3.9.12"
  }
 },
 "nbformat": 4,
 "nbformat_minor": 5
}
